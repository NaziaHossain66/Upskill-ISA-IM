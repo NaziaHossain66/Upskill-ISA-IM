{
  "nbformat": 4,
  "nbformat_minor": 0,
  "metadata": {
    "colab": {
      "name": "Assignment.ipynb",
      "provenance": [],
      "collapsed_sections": [],
      "authorship_tag": "ABX9TyNkoATHRLpM1ZOjOKOSsG2M",
      "include_colab_link": true
    },
    "kernelspec": {
      "name": "python3",
      "display_name": "Python 3"
    },
    "language_info": {
      "name": "python"
    }
  },
  "cells": [
    {
      "cell_type": "markdown",
      "metadata": {
        "id": "view-in-github",
        "colab_type": "text"
      },
      "source": [
        "<a href=\"https://colab.research.google.com/github/NaziaHossain66/Upskill-ISA-IM/blob/main/Assignment1.ipynb\" target=\"_parent\"><img src=\"https://colab.research.google.com/assets/colab-badge.svg\" alt=\"Open In Colab\"/></a>"
      ]
    },
    {
      "cell_type": "code",
      "metadata": {
        "id": "WFCH7ur6bEPK"
      },
      "source": [
        "%matplotlib inline\n",
        "import matplotlib.pyplot as plt\n",
        "import numpy as np\n"
      ],
      "execution_count": 1,
      "outputs": []
    },
    {
      "cell_type": "code",
      "metadata": {
        "id": "FloHuPcxcO7U"
      },
      "source": [
        "x=np.linspace(0,4,1000)"
      ],
      "execution_count": 23,
      "outputs": []
    },
    {
      "cell_type": "code",
      "metadata": {
        "colab": {
          "base_uri": "https://localhost:8080/",
          "height": 346
        },
        "id": "ATS6Br7Qb0KH",
        "outputId": "86004cd0-0ee2-4700-fbc0-cd0cdbf27c4a"
      },
      "source": [
        "#K=int(input(\"Value of K\"))\n",
        "K=4\n",
        "\n",
        "def a(x):\n",
        "  x=np.log(x) \n",
        "  return  x\n",
        "\n",
        "def b(x):\n",
        "  x=x \n",
        "  return  x\n",
        "\n",
        "def c(x):\n",
        "  x=x**2\n",
        "  return  x\n",
        "\n",
        "def d(x):\n",
        "  x=x**3 \n",
        "  return  x\n",
        "\n",
        "def e(x,k):\n",
        "  x=np.power(x,K) \n",
        "  return  x\n",
        "\n",
        "plt.plot(x,a(x), label=\"O(log(n))\")\n",
        "plt.plot(x,b(x), label=\"O(n)\")\n",
        "plt.plot(x,c(x), label=r\"O(n$^{2}$)\")\n",
        "plt.plot(x,d(x), label=\"O(n$^{3}$)\")\n",
        "plt.plot(x, e(x,K), label=\"O(n$^{k}$)\")\n",
        "plt.title(\"The Big O Notation\")\n",
        "plt.xlabel('n=input')\n",
        "plt.ylabel('Steps')\n",
        "plt.legend()\n"
      ],
      "execution_count": 30,
      "outputs": [
        {
          "output_type": "stream",
          "text": [
            "/usr/local/lib/python3.7/dist-packages/ipykernel_launcher.py:5: RuntimeWarning: divide by zero encountered in log\n",
            "  \"\"\"\n"
          ],
          "name": "stderr"
        },
        {
          "output_type": "execute_result",
          "data": {
            "text/plain": [
              "<matplotlib.legend.Legend at 0x7efcefeefa50>"
            ]
          },
          "metadata": {
            "tags": []
          },
          "execution_count": 30
        },
        {
          "output_type": "display_data",
          "data": {
            "image/png": "[encoded data removed]",
            "text/plain": [
              "<Figure size 432x288 with 1 Axes>"
            ]
          },
          "metadata": {
            "tags": [],
            "needs_background": "light"
          }
        }
      ]
    },
    {
      "cell_type": "code",
      "metadata": {
        "id": "6CvtHvs1c57F"
      },
      "source": [
        ""
      ],
      "execution_count": null,
      "outputs": []
    }
  ]
}